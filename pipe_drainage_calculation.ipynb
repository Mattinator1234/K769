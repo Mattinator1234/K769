{
 "cells": [
  {
   "cell_type": "code",
   "execution_count": null,
   "metadata": {},
   "outputs": [],
   "source": [
    "# Pipe Drainage Calculation\n",
    "import math\n",
    "\n",
    "# Given data\n",
    "initial_pressure_barg = 13  # Initial pressure in the pipes (barg)\n",
    "outlet_pressure_barg = 10  # Pressure at the outlet (barg)\n",
    "pump_pressure_barg = 10  # Pump pressure (barg)\n",
    "pump_flow_lpm = 50  # Pump flow rate (LPM)\n",
    "outflow_lpm = 426  # Outflow rate at the outlet (LPM)\n",
    "\n",
    "# Pipe dimensions (diameter in mm, length in m)\n",
    "pipes = [\n",
    "    (80, 0.634),\n",
    "    (100, 49.8),\n",
    "    (100, 144.4),\n",
    "    (100, 136.7),\n",
    "    (100, 58.6)\n",
    "]\n",
    "\n",

    "# Convert diameter to meters and calculate volume of each pipe\n",
    "def calculate_pipe_volume(diameter_mm, length_m):\n",
    "    radius_m = (diameter_mm / 1000) / 2  # Convert to meters and find radius\n",
    "    volume_m3 = math.pi * (radius_m ** 2) * length_m  # Cylinder volume formula\n",
    "    return volume_m3\n",
    "\n",


    "# Calculate volumes for each pipe\n",
    "pipe_volumes = [calculate_pipe_volume(d, l) for d, l in pipes]\n",
    "\n",
    "# Sum total volume in cubic meters\n",
    "total_volume_m3 = sum(pipe_volumes)\n",
    "\n",


    "# Convert total volume from cubic meters to liters\n",
    "total_volume_liters = total_volume_m3 * 1000  # 1 m³ = 1000 liters\n",
    "\n",
    "# Net flow rate (outflow - inflow)\n",
    "net_outflow_lpm = outflow_lpm - pump_flow_lpm\n",
    "\n",
    "# Apply a pressure adjustment factor based on the pressure difference\n",
    "pressure_ratio = (initial_pressure_barg - outlet_pressure_barg) / pump_pressure_barg\n",
    "adjusted_net_outflow_lpm = net_outflow_lpm * (1 + pressure_ratio)\n",
    "\n",
    "# Calculate time required to empty the pipe system (in minutes)\n",
    "time_minutes = total_volume_liters / adjusted_net_outflow_lpm\n",
    "\n",
    "# Convert time to seconds\n",
    "time_seconds = time_minutes * 60  # 1 minute = 60 seconds\n",
    "\n",
    "# Output the updated time required for the system to be drained\n",
    "time_seconds\n"
   ]

  }
 ],
 "metadata": {
  "kernelspec": {
   "display_name": "Python 3",
   "language": "python",
   "name": "python3"
  },
  "language_info": {
   "codemirror_mode": {
    "name": "ipython",
    "version": 3
   },
   "file_extension": ".py",
   "mimetype": "text/x-python",
   "name": "python",
   "nbconvert_exporter": "python",
   "pygments_lexer": "ipython3",
   "version": "3.8"
  }
 },
 "nbformat": 4,
 "nbformat_minor": 4
}
